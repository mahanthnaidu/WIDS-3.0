{
  "nbformat": 4,
  "nbformat_minor": 0,
  "metadata": {
    "colab": {
      "provenance": [],
      "authorship_tag": "ABX9TyOL5IunngL9g0MMjsskDoJh",
      "include_colab_link": true
    },
    "kernelspec": {
      "name": "python3",
      "display_name": "Python 3"
    },
    "language_info": {
      "name": "python"
    }
  },
  "cells": [
    {
      "cell_type": "markdown",
      "metadata": {
        "id": "view-in-github",
        "colab_type": "text"
      },
      "source": [
        "<a href=\"https://colab.research.google.com/github/mahanthnaidu/WIDS-3.0/blob/main/mnist.ipynb\" target=\"_parent\"><img src=\"https://colab.research.google.com/assets/colab-badge.svg\" alt=\"Open In Colab\"/></a>"
      ]
    },
    {
      "cell_type": "code",
      "execution_count": 19,
      "metadata": {
        "id": "v0RaSE4h2kYS"
      },
      "outputs": [],
      "source": [
        "import numpy as np\n",
        "import pandas as pd\n",
        "import torch\n",
        "import torch.nn as nn\n",
        "import torch.optim as optim\n",
        "import torchvision\n",
        "from torchvision import datasets, transforms\n",
        "from torch.utils.data import DataLoader\n",
        "from sklearn.model_selection import train_test_split"
      ]
    },
    {
      "cell_type": "code",
      "source": [
        "train_dataset = datasets.MNIST(root='./data', train=True, download=True, transform=transforms.Compose([\n",
        "                               transforms.ToTensor(),\n",
        "                               transforms.Normalize(\n",
        "                                 (0.1307,), (0.3081,))\n",
        "                             ]))\n",
        "test_dataset = datasets.MNIST(root='./data', train=False, download=True, transform=transforms.Compose([\n",
        "                               transforms.ToTensor(),\n",
        "                               transforms.Normalize(\n",
        "                                 (0.1307,), (0.3081,))\n",
        "                             ]))\n",
        "batch_size = 32\n",
        "train_loader = DataLoader(train_dataset, batch_size=batch_size, shuffle=True)\n",
        "test_loader = DataLoader(test_dataset, batch_size=batch_size, shuffle=False)"
      ],
      "metadata": {
        "id": "FmLg7SD12m_7"
      },
      "execution_count": 20,
      "outputs": []
    },
    {
      "cell_type": "code",
      "source": [
        "layers = []\n",
        "layers.append(nn.Conv2d(1, 32, kernel_size=3, stride=1, padding=1))\n",
        "layers.append(nn.ReLU())\n",
        "layers.append(nn.MaxPool2d(kernel_size=2, stride=2))\n",
        "layers.append(nn.Conv2d(32, 64, kernel_size=3, stride=1, padding=1))\n",
        "layers.append(nn.ReLU())\n",
        "layers.append(nn.MaxPool2d(kernel_size=2, stride=2))\n",
        "layers.append(nn.Flatten())\n",
        "layers.append(nn.Linear(64 * 7 * 7, 128))\n",
        "layers.append(nn.ReLU())\n",
        "layers.append(nn.Dropout(0.3))\n",
        "layers.append(nn.Linear(128, 10))\n",
        "model = nn.Sequential(*layers)"
      ],
      "metadata": {
        "id": "AoYFj15EgAqS"
      },
      "execution_count": 21,
      "outputs": []
    },
    {
      "cell_type": "code",
      "source": [
        "criterion = nn.CrossEntropyLoss()\n",
        "optimizer = optim.Adam(model.parameters(), lr=0.005)\n",
        "num_epochs = 5\n",
        "if torch.cuda.is_available():\n",
        "  device = torch.device(\"cuda\")\n",
        "else:\n",
        "  device = torch.device(\"cpu\")\n",
        "model.to(device)"
      ],
      "metadata": {
        "colab": {
          "base_uri": "https://localhost:8080/"
        },
        "id": "TmEczXoHhN5z",
        "outputId": "f2437bff-d253-48fa-b0a7-53ecec084b0b"
      },
      "execution_count": 22,
      "outputs": [
        {
          "output_type": "execute_result",
          "data": {
            "text/plain": [
              "Sequential(\n",
              "  (0): Conv2d(1, 32, kernel_size=(3, 3), stride=(1, 1), padding=(1, 1))\n",
              "  (1): ReLU()\n",
              "  (2): MaxPool2d(kernel_size=2, stride=2, padding=0, dilation=1, ceil_mode=False)\n",
              "  (3): Conv2d(32, 64, kernel_size=(3, 3), stride=(1, 1), padding=(1, 1))\n",
              "  (4): ReLU()\n",
              "  (5): MaxPool2d(kernel_size=2, stride=2, padding=0, dilation=1, ceil_mode=False)\n",
              "  (6): Flatten(start_dim=1, end_dim=-1)\n",
              "  (7): Linear(in_features=3136, out_features=128, bias=True)\n",
              "  (8): ReLU()\n",
              "  (9): Dropout(p=0.3, inplace=False)\n",
              "  (10): Linear(in_features=128, out_features=10, bias=True)\n",
              ")"
            ]
          },
          "metadata": {},
          "execution_count": 22
        }
      ]
    },
    {
      "cell_type": "code",
      "source": [
        "for epoch in range(num_epochs):\n",
        "    running_loss = 0.0\n",
        "    for i, (inputs, labels) in enumerate(train_loader):\n",
        "        inputs, labels = inputs.to(device), labels.to(device)\n",
        "\n",
        "        optimizer.zero_grad()\n",
        "\n",
        "        outputs = model(inputs)\n",
        "        loss = criterion(outputs, labels)\n",
        "        loss.backward()\n",
        "        optimizer.step()\n",
        "\n",
        "        running_loss += loss.item()\n",
        "        if (i+1) % 100 == 0:\n",
        "            print(f\"Epoch [{epoch+1}/{num_epochs}], \"\n",
        "                  f\"Step [{i+1}/{len(train_loader)}], \"\n",
        "                  f\"Loss: {running_loss / 100:.4f}\")\n",
        "            running_loss = 0.0\n",
        "\n",
        "print(\"Training Done!\")"
      ],
      "metadata": {
        "colab": {
          "base_uri": "https://localhost:8080/"
        },
        "id": "zJLfqkJ-kh56",
        "outputId": "d1bfd8b7-97e2-418b-d8a3-beaaade49c71"
      },
      "execution_count": 23,
      "outputs": [
        {
          "output_type": "stream",
          "name": "stdout",
          "text": [
            "Epoch [1/5], Step [100/1875], Loss: 0.6434\n",
            "Epoch [1/5], Step [200/1875], Loss: 0.2587\n",
            "Epoch [1/5], Step [300/1875], Loss: 0.2112\n",
            "Epoch [1/5], Step [400/1875], Loss: 0.1703\n",
            "Epoch [1/5], Step [500/1875], Loss: 0.1501\n",
            "Epoch [1/5], Step [600/1875], Loss: 0.1391\n",
            "Epoch [1/5], Step [700/1875], Loss: 0.1417\n",
            "Epoch [1/5], Step [800/1875], Loss: 0.1318\n",
            "Epoch [1/5], Step [900/1875], Loss: 0.1081\n",
            "Epoch [1/5], Step [1000/1875], Loss: 0.1282\n",
            "Epoch [1/5], Step [1100/1875], Loss: 0.1188\n",
            "Epoch [1/5], Step [1200/1875], Loss: 0.1212\n",
            "Epoch [1/5], Step [1300/1875], Loss: 0.1287\n",
            "Epoch [1/5], Step [1400/1875], Loss: 0.1082\n",
            "Epoch [1/5], Step [1500/1875], Loss: 0.1023\n",
            "Epoch [1/5], Step [1600/1875], Loss: 0.1020\n",
            "Epoch [1/5], Step [1700/1875], Loss: 0.1072\n",
            "Epoch [1/5], Step [1800/1875], Loss: 0.0879\n",
            "Epoch [2/5], Step [100/1875], Loss: 0.1027\n",
            "Epoch [2/5], Step [200/1875], Loss: 0.1201\n",
            "Epoch [2/5], Step [300/1875], Loss: 0.0838\n",
            "Epoch [2/5], Step [400/1875], Loss: 0.0975\n",
            "Epoch [2/5], Step [500/1875], Loss: 0.0729\n",
            "Epoch [2/5], Step [600/1875], Loss: 0.0906\n",
            "Epoch [2/5], Step [700/1875], Loss: 0.0838\n",
            "Epoch [2/5], Step [800/1875], Loss: 0.0824\n",
            "Epoch [2/5], Step [900/1875], Loss: 0.0816\n",
            "Epoch [2/5], Step [1000/1875], Loss: 0.0870\n",
            "Epoch [2/5], Step [1100/1875], Loss: 0.0923\n",
            "Epoch [2/5], Step [1200/1875], Loss: 0.0918\n",
            "Epoch [2/5], Step [1300/1875], Loss: 0.0809\n",
            "Epoch [2/5], Step [1400/1875], Loss: 0.0824\n",
            "Epoch [2/5], Step [1500/1875], Loss: 0.0994\n",
            "Epoch [2/5], Step [1600/1875], Loss: 0.0746\n",
            "Epoch [2/5], Step [1700/1875], Loss: 0.0855\n",
            "Epoch [2/5], Step [1800/1875], Loss: 0.0858\n",
            "Epoch [3/5], Step [100/1875], Loss: 0.0634\n",
            "Epoch [3/5], Step [200/1875], Loss: 0.0835\n",
            "Epoch [3/5], Step [300/1875], Loss: 0.0807\n",
            "Epoch [3/5], Step [400/1875], Loss: 0.0549\n",
            "Epoch [3/5], Step [500/1875], Loss: 0.0649\n",
            "Epoch [3/5], Step [600/1875], Loss: 0.0945\n",
            "Epoch [3/5], Step [700/1875], Loss: 0.0851\n",
            "Epoch [3/5], Step [800/1875], Loss: 0.0694\n",
            "Epoch [3/5], Step [900/1875], Loss: 0.0754\n",
            "Epoch [3/5], Step [1000/1875], Loss: 0.0913\n",
            "Epoch [3/5], Step [1100/1875], Loss: 0.0906\n",
            "Epoch [3/5], Step [1200/1875], Loss: 0.0933\n",
            "Epoch [3/5], Step [1300/1875], Loss: 0.0849\n",
            "Epoch [3/5], Step [1400/1875], Loss: 0.0677\n",
            "Epoch [3/5], Step [1500/1875], Loss: 0.0916\n",
            "Epoch [3/5], Step [1600/1875], Loss: 0.0770\n",
            "Epoch [3/5], Step [1700/1875], Loss: 0.0751\n",
            "Epoch [3/5], Step [1800/1875], Loss: 0.0951\n",
            "Epoch [4/5], Step [100/1875], Loss: 0.0840\n",
            "Epoch [4/5], Step [200/1875], Loss: 0.0764\n",
            "Epoch [4/5], Step [300/1875], Loss: 0.0711\n",
            "Epoch [4/5], Step [400/1875], Loss: 0.0410\n",
            "Epoch [4/5], Step [500/1875], Loss: 0.0606\n",
            "Epoch [4/5], Step [600/1875], Loss: 0.0686\n",
            "Epoch [4/5], Step [700/1875], Loss: 0.0525\n",
            "Epoch [4/5], Step [800/1875], Loss: 0.0818\n",
            "Epoch [4/5], Step [900/1875], Loss: 0.0841\n",
            "Epoch [4/5], Step [1000/1875], Loss: 0.0615\n",
            "Epoch [4/5], Step [1100/1875], Loss: 0.0771\n",
            "Epoch [4/5], Step [1200/1875], Loss: 0.0663\n",
            "Epoch [4/5], Step [1300/1875], Loss: 0.0835\n",
            "Epoch [4/5], Step [1400/1875], Loss: 0.0799\n",
            "Epoch [4/5], Step [1500/1875], Loss: 0.0813\n",
            "Epoch [4/5], Step [1600/1875], Loss: 0.0672\n",
            "Epoch [4/5], Step [1700/1875], Loss: 0.0643\n",
            "Epoch [4/5], Step [1800/1875], Loss: 0.0641\n",
            "Epoch [5/5], Step [100/1875], Loss: 0.0489\n",
            "Epoch [5/5], Step [200/1875], Loss: 0.0267\n",
            "Epoch [5/5], Step [300/1875], Loss: 0.0518\n",
            "Epoch [5/5], Step [400/1875], Loss: 0.0633\n",
            "Epoch [5/5], Step [500/1875], Loss: 0.0870\n",
            "Epoch [5/5], Step [600/1875], Loss: 0.0701\n",
            "Epoch [5/5], Step [700/1875], Loss: 0.0570\n",
            "Epoch [5/5], Step [800/1875], Loss: 0.0622\n",
            "Epoch [5/5], Step [900/1875], Loss: 0.0629\n",
            "Epoch [5/5], Step [1000/1875], Loss: 0.0772\n",
            "Epoch [5/5], Step [1100/1875], Loss: 0.0601\n",
            "Epoch [5/5], Step [1200/1875], Loss: 0.0776\n",
            "Epoch [5/5], Step [1300/1875], Loss: 0.0790\n",
            "Epoch [5/5], Step [1400/1875], Loss: 0.0776\n",
            "Epoch [5/5], Step [1500/1875], Loss: 0.0818\n",
            "Epoch [5/5], Step [1600/1875], Loss: 0.0867\n",
            "Epoch [5/5], Step [1700/1875], Loss: 0.0678\n",
            "Epoch [5/5], Step [1800/1875], Loss: 0.0832\n",
            "Training Done!\n"
          ]
        }
      ]
    },
    {
      "cell_type": "code",
      "source": [
        "model.eval()\n",
        "correct = 0\n",
        "total = 0\n",
        "\n",
        "with torch.no_grad():\n",
        "    for inputs, labels in test_loader:\n",
        "        inputs, labels = inputs.to(device), labels.to(device)\n",
        "        outputs = model(inputs)\n",
        "        _, predicted = torch.max(outputs, 1)\n",
        "        total += labels.size(0)\n",
        "        correct += (predicted == labels).sum().item()\n",
        "\n",
        "accuracy = 100 * correct / total\n",
        "print(f\"Accuracy on the test dataset: {accuracy:.2f}%\")"
      ],
      "metadata": {
        "colab": {
          "base_uri": "https://localhost:8080/"
        },
        "id": "V7kRjqE1zU3F",
        "outputId": "09c2da31-f595-4e06-9c6c-099af89b0b39"
      },
      "execution_count": 24,
      "outputs": [
        {
          "output_type": "stream",
          "name": "stdout",
          "text": [
            "Accuracy on the test dataset: 98.32%\n"
          ]
        }
      ]
    }
  ]
}