{
  "nbformat": 4,
  "nbformat_minor": 0,
  "metadata": {
    "colab": {
      "provenance": [],
      "authorship_tag": "ABX9TyP/M96AzLxyWS0dekdXIssV",
      "include_colab_link": true
    },
    "kernelspec": {
      "name": "python3",
      "display_name": "Python 3"
    },
    "language_info": {
      "name": "python"
    }
  },
  "cells": [
    {
      "cell_type": "markdown",
      "metadata": {
        "id": "view-in-github",
        "colab_type": "text"
      },
      "source": [
        "<a href=\"https://colab.research.google.com/github/mahanthnaidu/WIDS-3.0/blob/Week-1/TicTacToe.ipynb\" target=\"_parent\"><img src=\"https://colab.research.google.com/assets/colab-badge.svg\" alt=\"Open In Colab\"/></a>"
      ]
    },
    {
      "cell_type": "markdown",
      "source": [
        "**Tic-Tac-Toe Simulation**                            \n",
        "In this assignment you have to construct a python class \"TicTacToe\" which simulates the game of Tic-Tac-Toe, this will further be used as an enviroment to solve for you in next week.\n",
        "\n",
        "You may add arguments to given functions as per your need and also additional helper functions (whose name should start with \"_\", convention for private functions), but only the initially given functions can be called by any user. No additional imports are allowed. The game always starts with X's turn."
      ],
      "metadata": {
        "id": "Wil9DXrO3H4b"
      }
    },
    {
      "cell_type": "code",
      "execution_count": 3,
      "metadata": {
        "id": "ets2U5Rm28Aj"
      },
      "outputs": [],
      "source": [
        "class TicTacToe:\n",
        "    def __init__(self,n):\n",
        "        self.n = n\n",
        "        self.matrix = [[' ' for i in range(n)] for j in range(n)]\n",
        "        self.next_symbol = 'X'\n",
        "\n",
        "    def act(self, x, y):\n",
        "        if (x <= -1) or (x >= self.n) or (y <= -1) or (y >= self.n):\n",
        "            return -1\n",
        "        if self.matrix[x][y] != ' ':\n",
        "            return -1\n",
        "        if self.next_symbol == 'X':\n",
        "            self.matrix[x][y] = 'X'\n",
        "            self.next_symbol = 'O'\n",
        "        else:\n",
        "            self.matrix[x][y] = 'O'\n",
        "            self.next_symbol = 'X'\n",
        "        if self._check_winner():\n",
        "            return 1\n",
        "        else:\n",
        "            return 0\n",
        "\n",
        "    def reset(self):\n",
        "        self.matrix = [[' ' for i in range(self.n)] for j in range(self.n)]\n",
        "        self.next_symbol = 'X'\n",
        "        return\n",
        "\n",
        "    def _check_winner(self):\n",
        "        for i in range(self.n):\n",
        "          if self.matrix[i][0] == 'X':\n",
        "            val = 1\n",
        "            for j in range(1,self.n):\n",
        "              if self.matrix[i][j] != 'X':\n",
        "                val = 0\n",
        "                break\n",
        "            if(val == 1):\n",
        "              return True\n",
        "          elif self.matrix[0][i] == 'O':\n",
        "            val = 1\n",
        "            for j in range(1,self.n):\n",
        "              if self.matrix[i][j] != 'O':\n",
        "                val = 0\n",
        "                break\n",
        "            if(val == 1):\n",
        "              return True\n",
        "        for i in range(self.n):\n",
        "          if self.matrix[0][i] == 'X':\n",
        "            val = 1\n",
        "            for j in range(1,self.n):\n",
        "              if self.matrix[j][i] != 'X':\n",
        "                val = 0\n",
        "                break\n",
        "            if(val == 1):\n",
        "              return True\n",
        "          elif self.matrix[0][i] == 'O':\n",
        "            val = 1\n",
        "            for j in range(1,self.n):\n",
        "              if self.matrix[j][i] != 'X':\n",
        "                val = 0\n",
        "                break\n",
        "            if(val == 1):\n",
        "              return True\n",
        "          if self.matrix[self.n//2][self.n//2] == 'X':\n",
        "            val = 1\n",
        "            for i in range(self.n):\n",
        "              if self.matrix[i][self.n - i - 1] != 'X':\n",
        "                val = 0\n",
        "                break\n",
        "            if(val == 1):\n",
        "              return True\n",
        "            for i in range(self.n):\n",
        "              if self.matrix[i][i] != 'X':\n",
        "                val = 0\n",
        "                break\n",
        "            if(val == 1):\n",
        "              return True\n",
        "          if self.matrix[self.n//2][self.n//2] == 'O':\n",
        "            val = 1\n",
        "            for i in range(self.n):\n",
        "              if self.matrix[i][self.n - i - 1] != 'O':\n",
        "                val = 0\n",
        "                break\n",
        "            if(val == 1):\n",
        "              return True\n",
        "            for i in range(self.n):\n",
        "              if self.matrix[i][i] != 'O':\n",
        "                val = 0\n",
        "                break\n",
        "            if(val == 1):\n",
        "              return True\n",
        "        return False\n",
        "\n",
        "game = TicTacToe(9)\n",
        "game.act(0,0)\n",
        "game.act(8,2)\n",
        "game.act(1,7)\n",
        "game.act(4,4)\n",
        "game.act(6,3)\n",
        "game.reset()"
      ]
    }
  ]
}